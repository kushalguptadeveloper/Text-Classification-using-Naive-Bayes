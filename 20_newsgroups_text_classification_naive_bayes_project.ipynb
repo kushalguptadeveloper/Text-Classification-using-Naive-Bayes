{
 "cells": [
  {
   "cell_type": "code",
   "execution_count": 72,
   "metadata": {},
   "outputs": [],
   "source": [
    "import os\n",
    "import numpy as np\n",
    "import pandas as pd"
   ]
  },
  {
   "cell_type": "markdown",
   "metadata": {},
   "source": [
    "## Loading the data from directory, subdirectory and files"
   ]
  },
  {
   "cell_type": "code",
   "execution_count": 150,
   "metadata": {},
   "outputs": [
    {
     "name": "stdout",
     "output_type": "stream",
     "text": [
      "19998\n",
      "20\n"
     ]
    }
   ],
   "source": [
    "X = list()\n",
    "Y = list()\n",
    "for r,d,f in os.walk(r'''20_newsgroups'''):\n",
    "    for file in f:\n",
    "        X.append(os.path.join(r,file))\n",
    "print(len(X))\n",
    "\n",
    "\n",
    "for r,d,f in os.walk(r'''20_newsgroups'''):\n",
    "    for dirc in d:\n",
    "        Y.append(os.path.join(r,dirc))\n",
    "print(len(Y))"
   ]
  },
  {
   "cell_type": "markdown",
   "metadata": {},
   "source": [
    "## Test Train Split"
   ]
  },
  {
   "cell_type": "code",
   "execution_count": 151,
   "metadata": {},
   "outputs": [],
   "source": [
    "test_file = list()\n",
    "train_file = X\n",
    "for i in range(0,len(train_file),50):\n",
    "    test_file.append(train_file[i])\n",
    "for j in test_file:\n",
    "    train_file.remove(j)"
   ]
  },
  {
   "cell_type": "code",
   "execution_count": 154,
   "metadata": {},
   "outputs": [
    {
     "name": "stdout",
     "output_type": "stream",
     "text": [
      "399\n"
     ]
    },
    {
     "data": {
      "text/plain": [
       "19598"
      ]
     },
     "execution_count": 154,
     "metadata": {},
     "output_type": "execute_result"
    }
   ],
   "source": [
    "test_file.pop(0)\n",
    "print(len(test_file))\n",
    "len(train_file)"
   ]
  },
  {
   "cell_type": "code",
   "execution_count": 153,
   "metadata": {},
   "outputs": [
    {
     "data": {
      "text/plain": [
       "'20_newsgroups/.DS_Store'"
      ]
     },
     "execution_count": 153,
     "metadata": {},
     "output_type": "execute_result"
    }
   ],
   "source": []
  },
  {
   "cell_type": "markdown",
   "metadata": {},
   "source": [
    "## Creating a list of complete stop words"
   ]
  },
  {
   "cell_type": "code",
   "execution_count": 155,
   "metadata": {},
   "outputs": [],
   "source": [
    "from nltk.corpus import stopwords\n",
    "stopwords = stopwords.words('english')"
   ]
  },
  {
   "cell_type": "code",
   "execution_count": 156,
   "metadata": {},
   "outputs": [
    {
     "data": {
      "text/plain": [
       "179"
      ]
     },
     "execution_count": 156,
     "metadata": {},
     "output_type": "execute_result"
    }
   ],
   "source": [
    "len(stopwords)"
   ]
  },
  {
   "cell_type": "code",
   "execution_count": 157,
   "metadata": {},
   "outputs": [
    {
     "data": {
      "text/plain": [
       "839"
      ]
     },
     "execution_count": 157,
     "metadata": {},
     "output_type": "execute_result"
    }
   ],
   "source": [
    "stopwords_i = [word.title() for word in stopwords]\n",
    "stopwords_u = [word.upper() for word in stopwords]\n",
    "others = [str(i) for i in range(101)] + [str(i)+\".\" for i in range(101)]\n",
    "sp = [\"''\",'\"\"',\"'\",'\"','!','~','`','!','@','#','$','%','^','&','*','/','-','+','_',':)','**','***','_/',\n",
    "      '----------------------------------------------------------------------',\n",
    "      '[]','{}','()','\\\\','|','[',']','(','|>','>>','<<',\n",
    "')','{','}',',','.','?','=','<=','>=','<','>',':',';','A','B','Q','W','E','R','T','Y','U','I','O','P','S','D','F',\n",
    "      'G','H','J','K','L','Z','X','C','V','N','M','A.','B.','Q.','W.','E.','R.','T.','Y.','U.','I.','O.','P.',\n",
    "      'S.','D.','F.','G.','H.','J.','K.','L.','Z.','X.','C.','V.','N.','M.']\n",
    "stopwords = stopwords + stopwords_i + stopwords_u + others + sp\n",
    "len(stopwords)"
   ]
  },
  {
   "cell_type": "markdown",
   "metadata": {},
   "source": [
    "## Building the Vocabulary"
   ]
  },
  {
   "cell_type": "code",
   "execution_count": 79,
   "metadata": {},
   "outputs": [],
   "source": [
    "from nltk.tokenize import TweetTokenizer"
   ]
  },
  {
   "cell_type": "code",
   "execution_count": 80,
   "metadata": {},
   "outputs": [],
   "source": [
    "tknz = TweetTokenizer()"
   ]
  },
  {
   "cell_type": "code",
   "execution_count": 81,
   "metadata": {},
   "outputs": [],
   "source": [
    "vocab = {}\n",
    "for k in train_file:\n",
    "    #with open(k, 'rb') as f:\n",
    "    #    text = f.read()\n",
    "        text = tknz.tokenize(open(k,errors = \"replace\").read())\n",
    "    #with open(k, encoding=\"utf8\", errors='ignore') as f:\n",
    "        #text = f.read()\n",
    "        for t in text:\n",
    "            if t not in stopwords:\n",
    "                if vocab.get(t) != None:\n",
    "                    vocab[t] += 1\n",
    "                else:\n",
    "                    vocab[t] = 1\n",
    "    "
   ]
  },
  {
   "cell_type": "code",
   "execution_count": 82,
   "metadata": {},
   "outputs": [
    {
     "name": "stdout",
     "output_type": "stream",
     "text": [
      "281630\n"
     ]
    }
   ],
   "source": [
    "print(len(vocab.keys()))"
   ]
  },
  {
   "cell_type": "code",
   "execution_count": 83,
   "metadata": {},
   "outputs": [],
   "source": [
    "import matplotlib.pyplot as plt"
   ]
  },
  {
   "cell_type": "code",
   "execution_count": 84,
   "metadata": {},
   "outputs": [
    {
     "data": {
      "text/plain": [
       "<function matplotlib.pyplot.show>"
      ]
     },
     "execution_count": 84,
     "metadata": {},
     "output_type": "execute_result"
    },
    {
     "data": {
      "image/png": "[encoded data removed]",
      "text/plain": [
       "<matplotlib.figure.Figure at 0x1a1cbfb8d0>"
      ]
     },
     "metadata": {},
     "output_type": "display_data"
    }
   ],
   "source": [
    "x_axis = list(range(len(vocab.keys())))\n",
    "y_axis = list(vocab.values()) \n",
    "plt.scatter(x_axis,y_axis)\n",
    "#plt.axis([0,350000,0,50000])\n",
    "plt.show"
   ]
  },
  {
   "cell_type": "markdown",
   "metadata": {},
   "source": [
    "## sorting the vocab list in descending order on the basis of values"
   ]
  },
  {
   "cell_type": "code",
   "execution_count": 85,
   "metadata": {},
   "outputs": [],
   "source": [
    "voc = vocab\n",
    "voc = sorted(voc.items(), key=lambda x: x[1], reverse=True) #Sorting the words according to their frequencies in the dataset\n",
    "col = voc[0:2000] #Choosing top 2000 most occuring words\n",
    "col = dict(col) \n",
    "columns = list(col.keys()) #list of all 2000 words"
   ]
  },
  {
   "cell_type": "markdown",
   "metadata": {},
   "source": [
    "## creating a np array with total no. of training files as rows and total no. of vocab selected as columns"
   ]
  },
  {
   "cell_type": "code",
   "execution_count": 86,
   "metadata": {},
   "outputs": [],
   "source": [
    "x_train = np.array([[0] * len(col) for i in range(len(train_file))])"
   ]
  },
  {
   "cell_type": "code",
   "execution_count": 87,
   "metadata": {},
   "outputs": [
    {
     "data": {
      "text/plain": [
       "(19598, 2000)"
      ]
     },
     "execution_count": 87,
     "metadata": {},
     "output_type": "execute_result"
    }
   ],
   "source": [
    "x_train.shape"
   ]
  },
  {
   "cell_type": "markdown",
   "metadata": {},
   "source": [
    "## Traversing through each file again and checking each word if it is in vocab then incrementing its frequency"
   ]
  },
  {
   "cell_type": "code",
   "execution_count": 88,
   "metadata": {},
   "outputs": [],
   "source": [
    "for k in range(len(train_file)):\n",
    "    text = tknz.tokenize(open(train_file[k],errors = 'replace').read())\n",
    "    for t in text:\n",
    "        if t in columns:\n",
    "            pos = columns.index(t)\n",
    "            x_train[k][pos] += 1"
   ]
  },
  {
   "cell_type": "code",
   "execution_count": 158,
   "metadata": {},
   "outputs": [
    {
     "data": {
      "text/plain": [
       "(19598, 2000)"
      ]
     },
     "execution_count": 158,
     "metadata": {},
     "output_type": "execute_result"
    }
   ],
   "source": [
    "x_train.shape"
   ]
  },
  {
   "cell_type": "code",
   "execution_count": 90,
   "metadata": {},
   "outputs": [],
   "source": [
    "df_train = pd.DataFrame(x_train,columns = columns)\n",
    "y_train = list()"
   ]
  },
  {
   "cell_type": "code",
   "execution_count": 91,
   "metadata": {},
   "outputs": [],
   "source": [
    "for i in train_file:\n",
    "    clas = i.split('/')[1]\n",
    "    y_train.append(clas)"
   ]
  },
  {
   "cell_type": "code",
   "execution_count": 92,
   "metadata": {},
   "outputs": [],
   "source": [
    "y_train = np.array(y_train)"
   ]
  },
  {
   "cell_type": "code",
   "execution_count": 93,
   "metadata": {},
   "outputs": [
    {
     "data": {
      "text/plain": [
       "(19598,)"
      ]
     },
     "execution_count": 93,
     "metadata": {},
     "output_type": "execute_result"
    }
   ],
   "source": [
    "y_train.shape"
   ]
  },
  {
   "cell_type": "markdown",
   "metadata": {},
   "source": [
    "## Creating array for x_test and y_test as well"
   ]
  },
  {
   "cell_type": "code",
   "execution_count": 159,
   "metadata": {},
   "outputs": [],
   "source": [
    "x_test = np.array([[0] * len(col) for i in range(len(test_file))])"
   ]
  },
  {
   "cell_type": "code",
   "execution_count": 160,
   "metadata": {},
   "outputs": [],
   "source": [
    "for k in range(len(test_file)):\n",
    "    text = tknz.tokenize(open(test_file[k],errors = 'replace').read())\n",
    "    for t in text:\n",
    "        if t in columns:\n",
    "            pos = columns.index(t)\n",
    "            x_test[k][pos] += 1"
   ]
  },
  {
   "cell_type": "code",
   "execution_count": 161,
   "metadata": {},
   "outputs": [
    {
     "data": {
      "text/plain": [
       "(399, 2000)"
      ]
     },
     "execution_count": 161,
     "metadata": {},
     "output_type": "execute_result"
    }
   ],
   "source": [
    "x_test.shape"
   ]
  },
  {
   "cell_type": "code",
   "execution_count": 162,
   "metadata": {},
   "outputs": [],
   "source": [
    "df_test = pd.DataFrame(x_test, columns = columns)\n",
    "y_test = list()"
   ]
  },
  {
   "cell_type": "code",
   "execution_count": 163,
   "metadata": {},
   "outputs": [],
   "source": [
    "for i in test_file:\n",
    "    clas = i.split('/')[1]\n",
    "    y_test.append(clas)"
   ]
  },
  {
   "cell_type": "code",
   "execution_count": 164,
   "metadata": {},
   "outputs": [],
   "source": [
    "y_test = np.array(y_test)"
   ]
  },
  {
   "cell_type": "code",
   "execution_count": 165,
   "metadata": {},
   "outputs": [
    {
     "data": {
      "text/plain": [
       "(399,)"
      ]
     },
     "execution_count": 165,
     "metadata": {},
     "output_type": "execute_result"
    }
   ],
   "source": [
    "y_test.shape"
   ]
  },
  {
   "cell_type": "code",
   "execution_count": 166,
   "metadata": {},
   "outputs": [],
   "source": [
    "from sklearn.naive_bayes import MultinomialNB"
   ]
  },
  {
   "cell_type": "code",
   "execution_count": 167,
   "metadata": {},
   "outputs": [],
   "source": [
    "clf = MultinomialNB()"
   ]
  },
  {
   "cell_type": "code",
   "execution_count": 168,
   "metadata": {},
   "outputs": [
    {
     "data": {
      "text/plain": [
       "MultinomialNB(alpha=1.0, class_prior=None, fit_prior=True)"
      ]
     },
     "execution_count": 168,
     "metadata": {},
     "output_type": "execute_result"
    }
   ],
   "source": [
    "clf.fit(x_train,y_train)"
   ]
  },
  {
   "cell_type": "code",
   "execution_count": 169,
   "metadata": {},
   "outputs": [],
   "source": [
    "y_pred_sklearn = clf.predict(x_test)"
   ]
  },
  {
   "cell_type": "code",
   "execution_count": 170,
   "metadata": {},
   "outputs": [],
   "source": [
    "from sklearn.metrics import classification_report, confusion_matrix"
   ]
  },
  {
   "cell_type": "code",
   "execution_count": 171,
   "metadata": {},
   "outputs": [
    {
     "name": "stdout",
     "output_type": "stream",
     "text": [
      "                          precision    recall  f1-score   support\n",
      "\n",
      "             alt.atheism       0.71      0.75      0.73        20\n",
      "           comp.graphics       0.62      0.80      0.70        20\n",
      " comp.os.ms-windows.misc       0.00      0.00      0.00        20\n",
      "comp.sys.ibm.pc.hardware       0.57      0.85      0.68        20\n",
      "   comp.sys.mac.hardware       0.90      0.95      0.93        20\n",
      "          comp.windows.x       0.88      0.75      0.81        20\n",
      "            misc.forsale       0.77      1.00      0.87        20\n",
      "               rec.autos       0.86      0.95      0.90        20\n",
      "         rec.motorcycles       0.86      0.95      0.90        20\n",
      "      rec.sport.baseball       0.95      0.95      0.95        20\n",
      "        rec.sport.hockey       1.00      0.95      0.97        20\n",
      "               sci.crypt       0.95      0.95      0.95        20\n",
      "         sci.electronics       0.90      0.95      0.93        20\n",
      "                 sci.med       0.95      0.95      0.95        20\n",
      "               sci.space       1.00      0.95      0.97        20\n",
      "  soc.religion.christian       0.95      1.00      0.97        19\n",
      "      talk.politics.guns       0.68      0.95      0.79        20\n",
      "   talk.politics.mideast       0.94      0.80      0.86        20\n",
      "      talk.politics.misc       1.00      0.55      0.71        20\n",
      "      talk.religion.misc       0.63      0.60      0.62        20\n",
      "\n",
      "             avg / total       0.81      0.83      0.81       399\n",
      "\n",
      "[[15  0  0  0  0  0  0  0  0  0  0  0  0  0  0  0  0  0  0  5]\n",
      " [ 1 16  0  1  1  0  0  0  0  0  0  0  1  0  0  0  0  0  0  0]\n",
      " [ 0  4  0 11  0  2  2  1  0  0  0  0  0  0  0  0  0  0  0  0]\n",
      " [ 0  2  0 17  1  0  0  0  0  0  0  0  0  0  0  0  0  0  0  0]\n",
      " [ 0  0  0  1 19  0  0  0  0  0  0  0  0  0  0  0  0  0  0  0]\n",
      " [ 0  2  0  0  0 15  1  0  0  0  0  0  1  1  0  0  0  0  0  0]\n",
      " [ 0  0  0  0  0  0 20  0  0  0  0  0  0  0  0  0  0  0  0  0]\n",
      " [ 0  0  0  0  0  0  0 19  1  0  0  0  0  0  0  0  0  0  0  0]\n",
      " [ 0  0  0  0  0  0  0  1 19  0  0  0  0  0  0  0  0  0  0  0]\n",
      " [ 0  0  0  0  0  0  1  0  0 19  0  0  0  0  0  0  0  0  0  0]\n",
      " [ 0  0  0  0  0  0  0  0  0  1 19  0  0  0  0  0  0  0  0  0]\n",
      " [ 0  0  0  0  0  0  0  0  1  0  0 19  0  0  0  0  0  0  0  0]\n",
      " [ 0  0  0  0  0  0  0  0  0  0  0  0 19  0  0  0  1  0  0  0]\n",
      " [ 0  1  0  0  0  0  0  0  0  0  0  0  0 19  0  0  0  0  0  0]\n",
      " [ 0  1  0  0  0  0  0  0  0  0  0  0  0  0 19  0  0  0  0  0]\n",
      " [ 0  0  0  0  0  0  0  0  0  0  0  0  0  0  0 19  0  0  0  0]\n",
      " [ 0  0  0  0  0  0  1  0  0  0  0  0  0  0  0  0 19  0  0  0]\n",
      " [ 1  0  0  0  0  0  1  0  1  0  0  0  0  0  0  0  1 16  0  0]\n",
      " [ 0  0  0  0  0  0  0  1  0  0  0  1  0  0  0  0  5  0 11  2]\n",
      " [ 4  0  0  0  0  0  0  0  0  0  0  0  0  0  0  1  2  1  0 12]]\n"
     ]
    },
    {
     "name": "stderr",
     "output_type": "stream",
     "text": [
      "/anaconda3/lib/python3.6/site-packages/sklearn/metrics/classification.py:1135: UndefinedMetricWarning: Precision and F-score are ill-defined and being set to 0.0 in labels with no predicted samples.\n",
      "  'precision', 'predicted', average, warn_for)\n"
     ]
    }
   ],
   "source": [
    "print(classification_report(y_test, y_pred_sklearn))\n",
    "print(confusion_matrix(y_test, y_pred_sklearn))"
   ]
  },
  {
   "cell_type": "code",
   "execution_count": 107,
   "metadata": {},
   "outputs": [],
   "source": [
    "'''#  Making a dictionary of groups to give them an integer value which shows class\n",
    "#  I have classified 20 groups into 6 classes viz, Religion, Computer, Vehicles, Sports, Politics and for_sale\n",
    "dic = {'alt.atheism':1,\n",
    " 'comp.graphics':2,\n",
    " 'comp.os.ms-windows.misc':2,\n",
    " 'comp.sys.ibm.pc.hardware':2,\n",
    " 'comp.sys.mac.hardware':2,\n",
    " 'comp.windows.x':2,\n",
    " 'misc.forsale':3,\n",
    " 'rec.autos':4,\n",
    " 'rec.motorcycles':4,\n",
    " 'rec.sport.baseball':4,\n",
    " 'rec.sport.hockey':4,\n",
    " 'sci.crypt':5,\n",
    " 'sci.electronics':5,\n",
    " 'sci.med':5,\n",
    " 'sci.space':5,\n",
    " 'soc.religion.christian':1,\n",
    " 'talk.politics.guns':6,\n",
    " 'talk.politics.mideast':6,\n",
    " 'talk.politics.misc':6,\n",
    " 'talk.religion.misc':1,\n",
    " '.DS_Store':3\n",
    "      }\n",
    "      '''"
   ]
  },
  {
   "cell_type": "code",
   "execution_count": 108,
   "metadata": {},
   "outputs": [],
   "source": [
    "'''\n",
    "y_train_six = list()\n",
    "y_test_six = list()\n",
    "#test_file.pop(0)\n",
    "for group in train_file:\n",
    "    g = group.split('/')[1]\n",
    "    y_train_six.append(dic[g])\n",
    "                    \n",
    "for gr in test_file:\n",
    "    g1 = gr.split('/')[1]\n",
    "    \n",
    "    \n",
    "    y_test_six.append(dic[g1])\n",
    "'''"
   ]
  },
  {
   "cell_type": "code",
   "execution_count": 109,
   "metadata": {},
   "outputs": [
    {
     "name": "stdout",
     "output_type": "stream",
     "text": [
      "             precision    recall  f1-score   support\n",
      "\n",
      "          1       0.91      0.90      0.91        59\n",
      "          2       0.99      0.70      0.82       100\n",
      "          3       0.50      0.95      0.66        21\n",
      "          4       0.93      0.97      0.95        80\n",
      "          5       0.86      0.96      0.91        80\n",
      "          6       0.89      0.85      0.87        60\n",
      "\n",
      "avg / total       0.90      0.87      0.87       400\n",
      "\n",
      "[[53  0  0  0  0  6]\n",
      " [ 1 70 15  3 11  0]\n",
      " [ 0  1 20  0  0  0]\n",
      " [ 0  0  2 78  0  0]\n",
      " [ 1  0  1  1 77  0]\n",
      " [ 3  0  2  2  2 51]]\n"
     ]
    }
   ],
   "source": [
    "'''clf.fit(x_train,y_train_six)\n",
    "y_pred_sklearn_six = clf.predict(x_test)\n",
    "print(classification_report(y_test_six, y_pred_sklearn_six))\n",
    "print(confusion_matrix(y_test_six, y_pred_sklearn_six))"
   ]
  },
  {
   "cell_type": "code",
   "execution_count": 111,
   "metadata": {},
   "outputs": [],
   "source": [
    "## from scratch"
   ]
  },
  {
   "cell_type": "code",
   "execution_count": 172,
   "metadata": {},
   "outputs": [],
   "source": [
    "def fit(x_train, y_train):\n",
    "    dic = {}\n",
    "    possible_classes = set(y_train)\n",
    "    num_features = x_train.shape[1]\n",
    "    for current_class in possible_classes:\n",
    "        dic[current_class] = {}\n",
    "        current_class_rows = (y_train == current_class)\n",
    "        x_train_current = x_train[current_class_rows]\n",
    "        y_train_current = y_train[current_class_rows]\n",
    "        dic[\"total_data\"] = len(y_train)\n",
    "        output = 0\n",
    "        dic[current_class][\"y_total_count\"] = len(y_train_current)\n",
    "        for j in range(1, num_features+1):\n",
    "            dic[current_class][j] = x_train_current[:,j-1].sum()\n",
    "            output += dic[current_class][j]\n",
    "        dic[current_class][\"total_count\"] = output\n",
    "         \n",
    "    return dic        \n",
    "    "
   ]
  },
  {
   "cell_type": "code",
   "execution_count": 173,
   "metadata": {},
   "outputs": [],
   "source": [
    "def probability(dictionary,x,current_class):\n",
    "    op = np.log(dictionary[current_class][\"y_total_count\"]) - np.log(dictionary[\"total_data\"])\n",
    "    num_features = len(dictionary[current_class].keys()) - 2\n",
    "    for j in range(1,num_features + 1):\n",
    "        if x[j-1] != 0:\n",
    "            count_current_class_current_word = dictionary[current_class][j] + 1\n",
    "            count_current_class = dictionary[current_class][\"total_count\"] + num_features\n",
    "            current_probability = np.log(count_current_class_current_word) - np.log(count_current_class)\n",
    "            op = op + current_probability\n",
    "    return op"
   ]
  },
  {
   "cell_type": "code",
   "execution_count": 174,
   "metadata": {},
   "outputs": [],
   "source": [
    "def predict_single_class(dictionary, x):\n",
    "    all_classes = dictionary.keys()\n",
    "    best_prob = -1000\n",
    "    best_class = \"\"\n",
    "    for current_class in all_classes:\n",
    "        if current_class == \"total_data\":\n",
    "            continue\n",
    "        current_class_prob = probability(dictionary,x,current_class)\n",
    "        if current_class_prob > best_prob:\n",
    "            best_prob = current_class_prob\n",
    "            best_class = current_class\n",
    "    return best_class"
   ]
  },
  {
   "cell_type": "code",
   "execution_count": 175,
   "metadata": {},
   "outputs": [],
   "source": [
    "def predict(dictionary, x_test):\n",
    "    y_pred = list()\n",
    "    for x in x_test:\n",
    "        final_class = predict_single_class(dictionary,x)\n",
    "        y_pred.append(final_class)\n",
    "    return y_pred"
   ]
  },
  {
   "cell_type": "code",
   "execution_count": 176,
   "metadata": {},
   "outputs": [],
   "source": [
    "dic = fit(x_train,y_train)"
   ]
  },
  {
   "cell_type": "code",
   "execution_count": 177,
   "metadata": {},
   "outputs": [],
   "source": [
    "y_pred_own_algo = predict(dic,x_test) "
   ]
  },
  {
   "cell_type": "code",
   "execution_count": 178,
   "metadata": {},
   "outputs": [
    {
     "name": "stdout",
     "output_type": "stream",
     "text": [
      "                          precision    recall  f1-score   support\n",
      "\n",
      "                               0.00      0.00      0.00         0\n",
      "             alt.atheism       0.74      0.70      0.72        20\n",
      "           comp.graphics       0.56      0.75      0.64        20\n",
      " comp.os.ms-windows.misc       0.00      0.00      0.00        20\n",
      "comp.sys.ibm.pc.hardware       0.60      0.75      0.67        20\n",
      "   comp.sys.mac.hardware       0.82      0.90      0.86        20\n",
      "          comp.windows.x       0.88      0.75      0.81        20\n",
      "            misc.forsale       0.76      0.95      0.84        20\n",
      "               rec.autos       1.00      1.00      1.00        20\n",
      "         rec.motorcycles       0.87      1.00      0.93        20\n",
      "      rec.sport.baseball       0.95      0.95      0.95        20\n",
      "        rec.sport.hockey       1.00      0.95      0.97        20\n",
      "               sci.crypt       0.94      0.80      0.86        20\n",
      "         sci.electronics       0.78      0.90      0.84        20\n",
      "                 sci.med       1.00      0.85      0.92        20\n",
      "               sci.space       1.00      0.85      0.92        20\n",
      "  soc.religion.christian       1.00      1.00      1.00        19\n",
      "      talk.politics.guns       0.71      0.75      0.73        20\n",
      "   talk.politics.mideast       1.00      0.60      0.75        20\n",
      "      talk.politics.misc       0.67      0.40      0.50        20\n",
      "      talk.religion.misc       0.59      0.50      0.54        20\n",
      "\n",
      "             avg / total       0.79      0.77      0.77       399\n",
      "\n",
      "[[ 0  0  0  0  0  0  0  0  0  0  0  0  0  0  0  0  0  0  0  0  0]\n",
      " [ 2 14  0  0  0  0  0  0  0  0  0  0  0  0  0  0  0  0  0  0  4]\n",
      " [ 2  0 15  0  1  1  0  0  0  0  0  0  0  1  0  0  0  0  0  0  0]\n",
      " [ 0  0  6  0  9  0  2  1  0  0  0  0  0  1  0  0  0  0  0  1  0]\n",
      " [ 0  0  3  0 15  2  0  0  0  0  0  0  0  0  0  0  0  0  0  0  0]\n",
      " [ 1  0  0  0  0 18  0  0  0  0  0  0  0  1  0  0  0  0  0  0  0]\n",
      " [ 0  0  2  0  0  0 15  1  0  1  0  0  0  1  0  0  0  0  0  0  0]\n",
      " [ 0  0  0  0  0  1  0 19  0  0  0  0  0  0  0  0  0  0  0  0  0]\n",
      " [ 0  0  0  0  0  0  0  0 20  0  0  0  0  0  0  0  0  0  0  0  0]\n",
      " [ 0  0  0  0  0  0  0  0  0 20  0  0  0  0  0  0  0  0  0  0  0]\n",
      " [ 0  0  0  0  0  0  0  1  0  0 19  0  0  0  0  0  0  0  0  0  0]\n",
      " [ 0  0  0  0  0  0  0  0  0  0  1 19  0  0  0  0  0  0  0  0  0]\n",
      " [ 3  0  0  0  0  0  0  0  0  1  0  0 16  0  0  0  0  0  0  0  0]\n",
      " [ 0  0  0  0  0  0  0  1  0  0  0  0  0 18  0  0  0  1  0  0  0]\n",
      " [ 1  1  1  0  0  0  0  0  0  0  0  0  0  0 17  0  0  0  0  0  0]\n",
      " [ 3  0  0  0  0  0  0  0  0  0  0  0  0  0  0 17  0  0  0  0  0]\n",
      " [ 0  0  0  0  0  0  0  0  0  0  0  0  0  0  0  0 19  0  0  0  0]\n",
      " [ 4  0  0  0  0  0  0  1  0  0  0  0  0  0  0  0  0 15  0  0  0]\n",
      " [ 3  1  0  0  0  0  0  1  0  1  0  0  0  1  0  0  0  0 12  1  0]\n",
      " [ 4  0  0  0  0  0  0  0  0  0  0  0  1  0  0  0  0  4  0  8  3]\n",
      " [ 4  3  0  0  0  0  0  0  0  0  0  0  0  0  0  0  0  1  0  2 10]]\n"
     ]
    },
    {
     "name": "stderr",
     "output_type": "stream",
     "text": [
      "/anaconda3/lib/python3.6/site-packages/sklearn/metrics/classification.py:1135: UndefinedMetricWarning: Precision and F-score are ill-defined and being set to 0.0 in labels with no predicted samples.\n",
      "  'precision', 'predicted', average, warn_for)\n",
      "/anaconda3/lib/python3.6/site-packages/sklearn/metrics/classification.py:1137: UndefinedMetricWarning: Recall and F-score are ill-defined and being set to 0.0 in labels with no true samples.\n",
      "  'recall', 'true', average, warn_for)\n"
     ]
    }
   ],
   "source": [
    "print(classification_report(y_test,y_pred_own_algo))\n",
    "print(confusion_matrix(y_test,y_pred_own_algo))"
   ]
  },
  {
   "cell_type": "code",
   "execution_count": 149,
   "metadata": {},
   "outputs": [],
   "source": []
  },
  {
   "cell_type": "code",
   "execution_count": 137,
   "metadata": {},
   "outputs": [],
   "source": []
  },
  {
   "cell_type": "code",
   "execution_count": null,
   "metadata": {},
   "outputs": [],
   "source": []
  }
 ],
 "metadata": {
  "kernelspec": {
   "display_name": "Python 3",
   "language": "python",
   "name": "python3"
  },
  "language_info": {
   "codemirror_mode": {
    "name": "ipython",
    "version": 3
   },
   "file_extension": ".py",
   "mimetype": "text/x-python",
   "name": "python",
   "nbconvert_exporter": "python",
   "pygments_lexer": "ipython3",
   "version": "3.6.4"
  }
 },
 "nbformat": 4,
 "nbformat_minor": 2
}
